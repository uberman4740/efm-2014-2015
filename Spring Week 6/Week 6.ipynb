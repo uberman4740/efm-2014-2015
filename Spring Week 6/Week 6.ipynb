{
 "cells": [
  {
   "cell_type": "markdown",
   "metadata": {
    "slideshow": {
     "slide_type": "slide"
    }
   },
   "source": [
    "# EFM: Spring Quarter\n",
    "## Week 6\n",
    "\n",
    "(Jason Phang, Zachry Wang, Allan Zhang)"
   ]
  },
  {
   "cell_type": "markdown",
   "metadata": {
    "slideshow": {
     "slide_type": "slide"
    }
   },
   "source": [
    "### Itinerary for today"
   ]
  },
  {
   "cell_type": "markdown",
   "metadata": {
    "slideshow": {
     "slide_type": "fragment"
    }
   },
   "source": [
    "* Bank of England Data Visualization Competition\n",
    "\n",
    "* Stock Data from QuantQuote\n",
    "\n",
    "* Annual Allocations\n",
    "\n",
    "* Next Competition? Trading Competition?"
   ]
  },
  {
   "cell_type": "markdown",
   "metadata": {
    "slideshow": {
     "slide_type": "fragment"
    }
   },
   "source": [
    "> https://github.com/zphang/efm-2014-2015"
   ]
  },
  {
   "cell_type": "markdown",
   "metadata": {
    "slideshow": {
     "slide_type": "slide"
    }
   },
   "source": [
    "## Bank of England Data Visualization Competition\n",
    "\n",
    "* Submission: http://static.jasonphang.com/boe/\n",
    "* Results will be out by May 15th"
   ]
  },
  {
   "cell_type": "markdown",
   "metadata": {
    "slideshow": {
     "slide_type": "subslide"
    }
   },
   "source": [
    "## Stock Data from QuantQuote\n",
    "\n",
    "* 2GB .tar.gz file\n",
    "* I can't extract it cause it's more than 7GB and my hard drive ran out of space\n",
    "* Also we paid \\$400 for this\n",
    "    * Also we're getting \\$500 for this again next year"
   ]
  },
  {
   "cell_type": "markdown",
   "metadata": {
    "slideshow": {
     "slide_type": "subslide"
    }
   },
   "source": [
    "## Annual Allocations\n",
    "\n",
    "* They're out!"
   ]
  },
  {
   "cell_type": "markdown",
   "metadata": {
    "slideshow": {
     "slide_type": "fragment"
    }
   },
   "source": [
    "* We got most of what we wanted\n",
    "    * All research costs (GitHub, data, EC2 credits, etc)\n",
    "    * Also we got two tickets for PyCon 2016\n",
    "    * No love for R for Finance though"
   ]
  },
  {
   "cell_type": "markdown",
   "metadata": {
    "slideshow": {
     "slide_type": "subslide"
    }
   },
   "source": [
    "## Trading Competition / Next Competition\n",
    "\n",
    "* Guys plz"
   ]
  },
  {
   "cell_type": "markdown",
   "metadata": {
    "slideshow": {
     "slide_type": "slide"
    }
   },
   "source": [
    "## See you next Wednesday!"
   ]
  }
 ],
 "metadata": {
  "celltoolbar": "Slideshow",
  "kernelspec": {
   "display_name": "Python 2",
   "language": "python",
   "name": "python2"
  },
  "language_info": {
   "codemirror_mode": {
    "name": "ipython",
    "version": 2
   },
   "file_extension": ".py",
   "mimetype": "text/x-python",
   "name": "python",
   "nbconvert_exporter": "python",
   "pygments_lexer": "ipython2",
   "version": "2.7.6"
  }
 },
 "nbformat": 4,
 "nbformat_minor": 0
}
